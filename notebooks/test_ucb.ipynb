{
 "cells": [
  {
   "cell_type": "code",
   "execution_count": 4,
   "metadata": {},
   "outputs": [],
   "source": [
    "import os\n",
    "import pathlib\n",
    "import sys\n",
    "import ipykernel\n",
    "import numpy as np\n",
    "import matplotlib.pyplot as plt\n",
    "\n",
    "# 获取当前Notebook的路径\n",
    "notebook_path = os.getcwd()\n",
    "# 将父目录添加到sys.path中\n",
    "sys.path.insert(0, os.path.join(notebook_path, \"../bandit_algos/\"))\n",
    "\n",
    "from k_arm_bandit import BanditMachine\n",
    "from ucb_bandit import UCBBandit"
   ]
  },
  {
   "cell_type": "code",
   "execution_count": 47,
   "metadata": {},
   "outputs": [
    {
     "name": "stdout",
     "output_type": "stream",
     "text": [
      "arm:  0 miu:  -0.8741617467643646\n",
      "arm:  1 miu:  -0.9752058569434829\n",
      "arm:  2 miu:  -1.1485478466891414\n",
      "arm:  3 miu:  -1.240875888552119\n",
      "arm:  4 miu:  0.3219534404827174\n",
      "arm:  5 miu:  -1.7147481536356952\n",
      "arm:  6 miu:  0.9407903372596207\n",
      "arm:  7 miu:  -0.7517813361199575\n",
      "arm:  8 miu:  -0.7351327818733296\n",
      "arm:  9 miu:  1.0659928410375887\n"
     ]
    }
   ],
   "source": [
    "# 初始化多臂老虎机\n",
    "bandits = BanditMachine(10)\n",
    "for i in range(10):\n",
    "    print(\"arm: \", i, \"miu: \", bandits.miu_list[i])"
   ]
  },
  {
   "cell_type": "code",
   "execution_count": 48,
   "metadata": {},
   "outputs": [],
   "source": [
    "# 初始化 UCB 算法\n",
    "c = 1.5\n",
    "ucb_bandit = UCBBandit(bandits, c)"
   ]
  },
  {
   "cell_type": "code",
   "execution_count": 61,
   "metadata": {},
   "outputs": [
    {
     "name": "stdout",
     "output_type": "stream",
     "text": [
      "chosen_arm:  9 reward:  -0.4225085475069461\n",
      "chosen_arm:  9 reward:  0.07677118665855132\n",
      "chosen_arm:  9 reward:  0.1280567185529018\n",
      "chosen_arm:  6 reward:  0.19261674817918562\n",
      "chosen_arm:  9 reward:  0.3761713330042019\n",
      "chosen_arm:  8 reward:  -0.016367747675332556\n",
      "chosen_arm:  9 reward:  2.704989650075044\n",
      "chosen_arm:  9 reward:  1.2991816051840492\n",
      "chosen_arm:  9 reward:  0.923149551962192\n",
      "chosen_arm:  9 reward:  0.029974105557329045\n",
      "chosen_arm:  9 reward:  -0.6147038728880494\n",
      "chosen_arm:  4 reward:  -0.4279850730367502\n",
      "chosen_arm:  6 reward:  0.8588701257795859\n",
      "chosen_arm:  6 reward:  1.4795629403989428\n",
      "chosen_arm:  6 reward:  1.7340121909000317\n",
      "chosen_arm:  6 reward:  2.771823365931425\n",
      "chosen_arm:  6 reward:  3.6478116448409867\n",
      "chosen_arm:  6 reward:  0.39614245385415936\n",
      "chosen_arm:  6 reward:  -0.6471811599475177\n",
      "chosen_arm:  6 reward:  0.49316959577517944\n"
     ]
    }
   ],
   "source": [
    "# 运行UCB算法\n",
    "for _ in range(20):\n",
    "    chosen_arm, reward = ucb_bandit.play()\n",
    "    print(\"chosen_arm: \", chosen_arm, \"reward: \", reward)"
   ]
  }
 ],
 "metadata": {
  "kernelspec": {
   "display_name": "Python 3",
   "language": "python",
   "name": "python3"
  },
  "language_info": {
   "codemirror_mode": {
    "name": "ipython",
    "version": 3
   },
   "file_extension": ".py",
   "mimetype": "text/x-python",
   "name": "python",
   "nbconvert_exporter": "python",
   "pygments_lexer": "ipython3",
   "version": "3.10.11"
  }
 },
 "nbformat": 4,
 "nbformat_minor": 2
}
