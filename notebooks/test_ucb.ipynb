{
 "cells": [
  {
   "cell_type": "code",
   "execution_count": 1,
   "metadata": {},
   "outputs": [],
   "source": [
    "import os\n",
    "import pathlib\n",
    "import sys\n",
    "import ipykernel\n",
    "import numpy as np\n",
    "import matplotlib.pyplot as plt\n",
    "\n",
    "# 获取当前Notebook的路径\n",
    "notebook_path = os.getcwd()\n",
    "# 将父目录添加到sys.path中\n",
    "sys.path.insert(0, os.path.join(notebook_path, \"../bandit/\"))\n",
    "sys.path.insert(0, os.path.join(notebook_path, \"../algos/\"))\n",
    "\n",
    "from k_arm_bandit import BanditMachine\n",
    "from ucb import UCB"
   ]
  },
  {
   "cell_type": "code",
   "execution_count": 2,
   "metadata": {},
   "outputs": [
    {
     "name": "stdout",
     "output_type": "stream",
     "text": [
      "arm:  0 miu:  0.6944386466028089\n",
      "arm:  1 miu:  1.3876142811749395\n",
      "arm:  2 miu:  2.3475815836268863\n",
      "arm:  3 miu:  -0.06338265841063395\n",
      "arm:  4 miu:  2.59385976814505\n",
      "arm:  5 miu:  0.5317385000357355\n",
      "arm:  6 miu:  -1.021240246185863\n",
      "arm:  7 miu:  0.8978415642386615\n",
      "arm:  8 miu:  0.09277760970286944\n",
      "arm:  9 miu:  -0.8068346659778824\n"
     ]
    }
   ],
   "source": [
    "# 初始化多臂老虎机\n",
    "bandits = BanditMachine(10)\n",
    "for i in range(10):\n",
    "    print(\"arm: \", i, \"miu: \", bandits.miu_list[i])"
   ]
  },
  {
   "cell_type": "code",
   "execution_count": 29,
   "metadata": {},
   "outputs": [],
   "source": [
    "# 初始化 UCB 算法\n",
    "c = 1.5\n",
    "ucb_bandits = UCB(bandits, c)"
   ]
  },
  {
   "cell_type": "code",
   "execution_count": 9,
   "metadata": {},
   "outputs": [
    {
     "name": "stdout",
     "output_type": "stream",
     "text": [
      "chosen_arm:  0 reward:  -2.0916945244834966\n",
      "chosen_arm:  1 reward:  1.0978477702435419\n",
      "chosen_arm:  2 reward:  1.332828087311307\n",
      "chosen_arm:  3 reward:  -0.46143733983107305\n",
      "chosen_arm:  4 reward:  -0.6084425237363028\n",
      "chosen_arm:  5 reward:  1.0154202478758336\n",
      "chosen_arm:  6 reward:  0.12131670916589293\n",
      "chosen_arm:  7 reward:  -1.3877025606090156\n",
      "chosen_arm:  8 reward:  -0.4713205255708983\n",
      "chosen_arm:  9 reward:  -0.5226998758267962\n",
      "chosen_arm:  2 reward:  -0.8394220331102816\n",
      "chosen_arm:  1 reward:  0.6469563434040211\n",
      "chosen_arm:  5 reward:  1.4125048086946157\n",
      "chosen_arm:  5 reward:  2.044100826192694\n",
      "chosen_arm:  5 reward:  1.8245525461757743\n",
      "chosen_arm:  5 reward:  1.062693828515606\n",
      "chosen_arm:  5 reward:  0.5775048267985432\n",
      "chosen_arm:  1 reward:  1.0571652358341457\n",
      "chosen_arm:  5 reward:  -0.13845935192357184\n",
      "chosen_arm:  1 reward:  1.2922436551304157\n",
      "chosen_arm:  1 reward:  -0.16946371235269675\n",
      "chosen_arm:  5 reward:  1.2622765544622538\n",
      "chosen_arm:  5 reward:  2.3206642935608897\n",
      "chosen_arm:  5 reward:  -0.06221781938104676\n",
      "chosen_arm:  6 reward:  -1.8558236793908895\n"
     ]
    }
   ],
   "source": [
    "# 运行UCB算法\n",
    "for _ in range(25):\n",
    "    chosen_arm, reward = ucb_bandits.play()\n",
    "    print(\"chosen_arm: \", chosen_arm, \"reward: \", reward)"
   ]
  }
 ],
 "metadata": {
  "kernelspec": {
   "display_name": "Python 3",
   "language": "python",
   "name": "python3"
  },
  "language_info": {
   "codemirror_mode": {
    "name": "ipython",
    "version": 3
   },
   "file_extension": ".py",
   "mimetype": "text/x-python",
   "name": "python",
   "nbconvert_exporter": "python",
   "pygments_lexer": "ipython3",
   "version": "3.10.11"
  }
 },
 "nbformat": 4,
 "nbformat_minor": 2
}
