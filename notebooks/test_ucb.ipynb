{
 "cells": [
  {
   "cell_type": "code",
   "execution_count": 16,
   "metadata": {},
   "outputs": [],
   "source": [
    "import os\n",
    "import pathlib\n",
    "import sys\n",
    "import ipykernel\n",
    "import numpy as np\n",
    "import matplotlib.pyplot as plt\n",
    "\n",
    "# 获取当前Notebook的路径\n",
    "notebook_path = os.getcwd()\n",
    "# 将父目录添加到sys.path中\n",
    "sys.path.insert(0, os.path.join(notebook_path, \"../bandit/\"))\n",
    "sys.path.insert(0, os.path.join(notebook_path, \"../algos/\"))\n",
    "\n",
    "from k_arm_bandit import BanditMachine\n",
    "from ucb import UCB"
   ]
  },
  {
   "cell_type": "code",
   "execution_count": 17,
   "metadata": {},
   "outputs": [
    {
     "name": "stdout",
     "output_type": "stream",
     "text": [
      "arm:  0 miu:  -0.2504714129832021\n",
      "arm:  1 miu:  0.9300270665457914\n",
      "arm:  2 miu:  -0.748637510033983\n",
      "arm:  3 miu:  -1.395396666324867\n",
      "arm:  4 miu:  0.7236366829826979\n",
      "arm:  5 miu:  -1.0186983464980002\n",
      "arm:  6 miu:  0.48354610229212597\n",
      "arm:  7 miu:  0.683731519199318\n",
      "arm:  8 miu:  0.41852113842051236\n",
      "arm:  9 miu:  -1.2713576011548116\n"
     ]
    }
   ],
   "source": [
    "# 初始化多臂老虎机\n",
    "bandits = BanditMachine(10)\n",
    "for i in range(10):\n",
    "    print(\"arm: \", i, \"miu: \", bandits.miu_list[i])"
   ]
  },
  {
   "cell_type": "code",
   "execution_count": 37,
   "metadata": {},
   "outputs": [],
   "source": [
    "# 初始化 UCB 算法\n",
    "c = 1.5\n",
    "ucb_bandit = UCB(bandits, c)"
   ]
  },
  {
   "cell_type": "code",
   "execution_count": 69,
   "metadata": {},
   "outputs": [
    {
     "name": "stdout",
     "output_type": "stream",
     "text": [
      "chosen_arm:  4 reward:  0.696173988063659\n",
      "chosen_arm:  4 reward:  0.3084529684705752\n",
      "chosen_arm:  4 reward:  0.7147708119543227\n",
      "chosen_arm:  4 reward:  0.8072723529980881\n",
      "chosen_arm:  4 reward:  -0.08262256806797419\n",
      "chosen_arm:  4 reward:  1.8512542620430676\n",
      "chosen_arm:  4 reward:  1.6580105725033798\n",
      "chosen_arm:  4 reward:  0.8148886428724552\n",
      "chosen_arm:  4 reward:  1.1997577962614128\n",
      "chosen_arm:  4 reward:  -0.44073848720747444\n",
      "chosen_arm:  4 reward:  1.894723764157958\n",
      "chosen_arm:  4 reward:  0.09992014946158079\n",
      "chosen_arm:  4 reward:  2.3168245299551558\n",
      "chosen_arm:  4 reward:  1.2946880651898556\n",
      "chosen_arm:  4 reward:  -1.1492069143246506\n",
      "chosen_arm:  4 reward:  1.6921975383863268\n",
      "chosen_arm:  4 reward:  -0.638694691929732\n",
      "chosen_arm:  4 reward:  -0.5604402936851505\n",
      "chosen_arm:  8 reward:  -0.9832364404235874\n",
      "chosen_arm:  1 reward:  2.1105952640843153\n",
      "chosen_arm:  1 reward:  0.6227749079882443\n",
      "chosen_arm:  1 reward:  2.5361428854247237\n",
      "chosen_arm:  1 reward:  -0.1083175970844591\n",
      "chosen_arm:  1 reward:  0.23119028854841084\n",
      "chosen_arm:  1 reward:  2.7445102081501966\n"
     ]
    }
   ],
   "source": [
    "# 运行UCB算法\n",
    "for _ in range(25):\n",
    "    chosen_arm, reward = ucb_bandit.play()\n",
    "    print(\"chosen_arm: \", chosen_arm, \"reward: \", reward)"
   ]
  }
 ],
 "metadata": {
  "kernelspec": {
   "display_name": "Python 3",
   "language": "python",
   "name": "python3"
  },
  "language_info": {
   "codemirror_mode": {
    "name": "ipython",
    "version": 3
   },
   "file_extension": ".py",
   "mimetype": "text/x-python",
   "name": "python",
   "nbconvert_exporter": "python",
   "pygments_lexer": "ipython3",
   "version": "3.10.11"
  }
 },
 "nbformat": 4,
 "nbformat_minor": 2
}
