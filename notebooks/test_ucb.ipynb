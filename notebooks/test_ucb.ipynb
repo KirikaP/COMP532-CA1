{
 "cells": [
  {
   "cell_type": "code",
   "execution_count": 2,
   "metadata": {},
   "outputs": [],
   "source": [
    "import os\n",
    "import pathlib\n",
    "import sys\n",
    "import ipykernel\n",
    "import numpy as np\n",
    "import matplotlib.pyplot as plt\n",
    "\n",
    "# 获取当前Notebook的路径\n",
    "notebook_path = os.getcwd()\n",
    "# 将父目录添加到sys.path中\n",
    "sys.path.insert(0, os.path.join(notebook_path, \"../bandit/\"))\n",
    "sys.path.insert(0, os.path.join(notebook_path, \"../algos/\"))\n",
    "\n",
    "from k_arm_bandit import BanditMachine\n",
    "from ucb import UCB"
   ]
  },
  {
   "cell_type": "code",
   "execution_count": 3,
   "metadata": {},
   "outputs": [
    {
     "name": "stdout",
     "output_type": "stream",
     "text": [
      "arm:  0 miu:  1.376695169357662\n",
      "arm:  1 miu:  0.5534095224669097\n",
      "arm:  2 miu:  0.425750353899981\n",
      "arm:  3 miu:  0.04644053023019177\n",
      "arm:  4 miu:  0.26582967572180227\n",
      "arm:  5 miu:  0.4215586023257405\n",
      "arm:  6 miu:  1.9457077595323395\n",
      "arm:  7 miu:  0.9950361478274424\n",
      "arm:  8 miu:  -0.08495825844771378\n",
      "arm:  9 miu:  0.0350939317801647\n"
     ]
    }
   ],
   "source": [
    "# 初始化多臂老虎机\n",
    "bandits = BanditMachine(10)\n",
    "for i in range(10):\n",
    "    print(\"arm: \", i, \"miu: \", bandits.miu_list[i])"
   ]
  },
  {
   "cell_type": "code",
   "execution_count": 4,
   "metadata": {},
   "outputs": [],
   "source": [
    "# 初始化 UCB 算法\n",
    "c = 1.5\n",
    "ucb_bandits = UCB(bandits, c)"
   ]
  },
  {
   "cell_type": "code",
   "execution_count": 5,
   "metadata": {},
   "outputs": [
    {
     "name": "stdout",
     "output_type": "stream",
     "text": [
      "chosen_arm:  0 reward:  1.4309714204302433\n",
      "chosen_arm:  1 reward:  1.504860051590811\n",
      "chosen_arm:  2 reward:  -0.24933530611806326\n",
      "chosen_arm:  3 reward:  0.05095416209523019\n",
      "chosen_arm:  4 reward:  1.2260157744960032\n",
      "chosen_arm:  5 reward:  -0.22542039373963252\n",
      "chosen_arm:  6 reward:  1.4055092218357697\n",
      "chosen_arm:  7 reward:  -0.003465174394521986\n",
      "chosen_arm:  8 reward:  -1.623112952846\n",
      "chosen_arm:  9 reward:  0.6047162854128791\n",
      "chosen_arm:  1 reward:  0.6328691191356506\n",
      "chosen_arm:  0 reward:  -0.4282262637524705\n",
      "chosen_arm:  6 reward:  1.2034171142844028\n",
      "chosen_arm:  4 reward:  -0.7059008271505861\n",
      "chosen_arm:  6 reward:  2.208456516852181\n",
      "chosen_arm:  6 reward:  2.6395054504542705\n",
      "chosen_arm:  6 reward:  0.717822608491959\n",
      "chosen_arm:  6 reward:  1.3384507333412397\n",
      "chosen_arm:  6 reward:  2.5801013383291087\n",
      "chosen_arm:  6 reward:  1.8470442911817095\n",
      "chosen_arm:  6 reward:  1.3986140343946254\n",
      "chosen_arm:  1 reward:  0.21602536298826208\n",
      "chosen_arm:  6 reward:  2.8936371319374903\n",
      "chosen_arm:  6 reward:  2.51023896136139\n",
      "chosen_arm:  6 reward:  1.8663904656261499\n"
     ]
    }
   ],
   "source": [
    "# 运行UCB算法\n",
    "for _ in range(25):\n",
    "    chosen_arm, reward = ucb_bandits.play()\n",
    "    print(\"chosen_arm: \", chosen_arm, \"reward: \", reward)"
   ]
  }
 ],
 "metadata": {
  "kernelspec": {
   "display_name": "Python 3",
   "language": "python",
   "name": "python3"
  },
  "language_info": {
   "codemirror_mode": {
    "name": "ipython",
    "version": 3
   },
   "file_extension": ".py",
   "mimetype": "text/x-python",
   "name": "python",
   "nbconvert_exporter": "python",
   "pygments_lexer": "ipython3",
   "version": "3.10.11"
  }
 },
 "nbformat": 4,
 "nbformat_minor": 2
}
