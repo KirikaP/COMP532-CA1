{
 "cells": [
  {
   "cell_type": "code",
   "execution_count": null,
   "metadata": {},
   "outputs": [],
   "source": []
  },
  {
   "cell_type": "code",
   "execution_count": 5,
   "metadata": {},
   "outputs": [],
   "source": [
    "import os\n",
    "import pathlib\n",
    "import sys\n",
    "import ipykernel\n",
    "import numpy as np\n",
    "import matplotlib.pyplot as plt\n",
    "\n",
    "# 获取当前Notebook的路径\n",
    "notebook_path = os.getcwd()\n",
    "# 将父目录添加到sys.path中\n",
    "sys.path.insert(0, os.path.join(notebook_path, \"../bandit/\"))\n",
    "sys.path.insert(0, os.path.join(notebook_path, \"../algos/\"))\n",
    "\n",
    "from k_arm_bandit import BanditMachine\n",
    "from epsilon_greedy import EpsilonGreedy"
   ]
  },
  {
   "cell_type": "code",
   "execution_count": 2,
   "metadata": {},
   "outputs": [
    {
     "name": "stdout",
     "output_type": "stream",
     "text": [
      "arm:  0 miu:  -1.8387617804556529\n",
      "arm:  1 miu:  -0.4077390008140499\n",
      "arm:  2 miu:  1.574084305504939\n",
      "arm:  3 miu:  0.536634515860009\n",
      "arm:  4 miu:  -0.8207694416747632\n",
      "arm:  5 miu:  -0.4097096816990642\n",
      "arm:  6 miu:  -0.3405356673744557\n",
      "arm:  7 miu:  -1.3745178067497983\n",
      "arm:  8 miu:  -2.115004103164658\n",
      "arm:  9 miu:  0.30897081193910436\n"
     ]
    }
   ],
   "source": [
    "# 初始化多臂老虎机\n",
    "bandits = BanditMachine(10)\n",
    "for i in range(10):\n",
    "    print(\"arm: \", i, \"miu: \", bandits.miu_list[i])"
   ]
  },
  {
   "cell_type": "code",
   "execution_count": 7,
   "metadata": {},
   "outputs": [],
   "source": [
    "# 初始化 Episilon-greedy 算法\n",
    "e = 0.1\n",
    "e_greedy_bandits = EpsilonGreedy(bandits, e)"
   ]
  },
  {
   "cell_type": "code",
   "execution_count": 9,
   "metadata": {},
   "outputs": [
    {
     "name": "stdout",
     "output_type": "stream",
     "text": [
      "chosen_arm:  0 reward:  -0.010197498031415675\n",
      "chosen_arm:  1 reward:  -0.23815384138677928\n",
      "chosen_arm:  2 reward:  1.9397922154410994\n",
      "chosen_arm:  2 reward:  2.0617135542791454\n",
      "chosen_arm:  8 reward:  -2.986409077208456\n",
      "chosen_arm:  2 reward:  1.5667015396329809\n",
      "chosen_arm:  2 reward:  0.13771832548227647\n",
      "chosen_arm:  2 reward:  1.8133404723927233\n",
      "chosen_arm:  9 reward:  -0.12052674685984338\n",
      "chosen_arm:  2 reward:  2.562349536354998\n",
      "chosen_arm:  2 reward:  1.0259924724131664\n",
      "chosen_arm:  2 reward:  0.6216035388210759\n",
      "chosen_arm:  2 reward:  0.762864580160689\n",
      "chosen_arm:  2 reward:  1.8526722348604092\n",
      "chosen_arm:  2 reward:  1.7973544842912745\n",
      "chosen_arm:  2 reward:  2.0828521470880235\n",
      "chosen_arm:  2 reward:  3.94884501473709\n",
      "chosen_arm:  2 reward:  2.4004063377366776\n",
      "chosen_arm:  2 reward:  0.8332107013235436\n",
      "chosen_arm:  2 reward:  1.3426597218745306\n",
      "chosen_arm:  2 reward:  1.3136458168237528\n",
      "chosen_arm:  2 reward:  1.7911939272361537\n",
      "chosen_arm:  2 reward:  -0.9812366823786849\n",
      "chosen_arm:  2 reward:  1.9973402525852508\n",
      "chosen_arm:  2 reward:  2.0940496299671905\n"
     ]
    }
   ],
   "source": [
    "# 运行 Epsilon-Greedy 算法\n",
    "for _ in range(25):\n",
    "    chosen_arm, reward = e_greedy_bandits.play()\n",
    "    print(\"chosen_arm: \", chosen_arm, \"reward: \", reward)\n",
    "    "
   ]
  }
 ],
 "metadata": {
  "kernelspec": {
   "display_name": "Python 3",
   "language": "python",
   "name": "python3"
  },
  "language_info": {
   "codemirror_mode": {
    "name": "ipython",
    "version": 3
   },
   "file_extension": ".py",
   "mimetype": "text/x-python",
   "name": "python",
   "nbconvert_exporter": "python",
   "pygments_lexer": "ipython3",
   "version": "3.10.11"
  }
 },
 "nbformat": 4,
 "nbformat_minor": 2
}
