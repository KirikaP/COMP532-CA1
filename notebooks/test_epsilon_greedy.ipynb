{
 "cells": [
  {
   "cell_type": "code",
   "execution_count": 7,
   "metadata": {},
   "outputs": [
    {
     "name": "stdout",
     "output_type": "stream",
     "text": [
      "['c:\\\\Users\\\\isrya\\\\#MyFiles\\\\#MyCode\\\\GithubUoL532\\\\COMP532-CA1\\\\notebooks\\\\../algos/', 'c:\\\\Users\\\\isrya\\\\#MyFiles\\\\#MyCode\\\\GithubUoL532\\\\COMP532-CA1\\\\notebooks\\\\../bandit/', 'c:\\\\Users\\\\isrya\\\\#MyFiles\\\\#MyCode\\\\GithubUoL532\\\\COMP532-CA1\\\\notebooks\\\\../algos/', 'c:\\\\Users\\\\isrya\\\\#MyFiles\\\\#MyCode\\\\GithubUoL532\\\\COMP532-CA1\\\\notebooks\\\\../bandit/', 'c:\\\\Users\\\\isrya\\\\#MyFiles\\\\#MyCode\\\\GithubUoL532\\\\COMP532-CA1\\\\notebooks\\\\../algos/', 'c:\\\\Users\\\\isrya\\\\#MyFiles\\\\#MyCode\\\\GithubUoL532\\\\COMP532-CA1\\\\notebooks\\\\../bandit/', 'c:\\\\Users\\\\isrya\\\\#MyFiles\\\\#MyCode\\\\GithubUoL532\\\\COMP532-CA1\\\\notebooks', 'c:\\\\Users\\\\isrya\\\\AppData\\\\Local\\\\Programs\\\\Python\\\\Python310\\\\python310.zip', 'c:\\\\Users\\\\isrya\\\\AppData\\\\Local\\\\Programs\\\\Python\\\\Python310\\\\DLLs', 'c:\\\\Users\\\\isrya\\\\AppData\\\\Local\\\\Programs\\\\Python\\\\Python310\\\\lib', 'c:\\\\Users\\\\isrya\\\\AppData\\\\Local\\\\Programs\\\\Python\\\\Python310', '', 'C:\\\\Users\\\\isrya\\\\AppData\\\\Roaming\\\\Python\\\\Python310\\\\site-packages', 'C:\\\\Users\\\\isrya\\\\AppData\\\\Roaming\\\\Python\\\\Python310\\\\site-packages\\\\win32', 'C:\\\\Users\\\\isrya\\\\AppData\\\\Roaming\\\\Python\\\\Python310\\\\site-packages\\\\win32\\\\lib', 'C:\\\\Users\\\\isrya\\\\AppData\\\\Roaming\\\\Python\\\\Python310\\\\site-packages\\\\Pythonwin', 'c:\\\\Users\\\\isrya\\\\AppData\\\\Local\\\\Programs\\\\Python\\\\Python310\\\\lib\\\\site-packages']\n"
     ]
    }
   ],
   "source": [
    "import os\n",
    "import pathlib\n",
    "import sys\n",
    "import ipykernel\n",
    "import numpy as np\n",
    "import matplotlib.pyplot as plt\n",
    "\n",
    "# 获取当前Notebook的路径\n",
    "notebook_path = os.getcwd()\n",
    "# 将父目录添加到sys.path中\n",
    "sys.path.insert(0, os.path.join(notebook_path, \"../bandit/\"))\n",
    "sys.path.insert(0, os.path.join(notebook_path, \"../algos/\"))\n",
    "\n",
    "print(sys.path)\n",
    "\n",
    "from k_arm_bandit import BanditMachine\n",
    "from epsilon_greedy import EpsilonGreedy\n"
   ]
  },
  {
   "cell_type": "code",
   "execution_count": 8,
   "metadata": {},
   "outputs": [
    {
     "name": "stdout",
     "output_type": "stream",
     "text": [
      "arm:  0 miu:  0.4875737590835801\n",
      "arm:  1 miu:  -0.37825600755195854\n",
      "arm:  2 miu:  1.0009517260066683\n",
      "arm:  3 miu:  0.5131678971666005\n",
      "arm:  4 miu:  0.9628348599091899\n",
      "arm:  5 miu:  -0.8272029173767197\n",
      "arm:  6 miu:  0.6652885074066625\n",
      "arm:  7 miu:  0.4519369534433482\n",
      "arm:  8 miu:  0.815367629842532\n",
      "arm:  9 miu:  1.4293380170324226\n"
     ]
    }
   ],
   "source": [
    "# 初始化多臂老虎机\n",
    "bandits = BanditMachine(10)\n",
    "for i in range(10):\n",
    "    print(\"arm: \", i, \"miu: \", bandits.miu_list[i])"
   ]
  },
  {
   "cell_type": "code",
   "execution_count": 11,
   "metadata": {},
   "outputs": [],
   "source": [
    "# 初始化 Episilon-greedy 算法\n",
    "e = 0.1\n",
    "e_greedy_bandits = EpsilonGreedy(bandits, e)"
   ]
  },
  {
   "cell_type": "code",
   "execution_count": 19,
   "metadata": {},
   "outputs": [
    {
     "name": "stdout",
     "output_type": "stream",
     "text": [
      "chosen_arm:  4 reward:  0.6601296469495572\n",
      "chosen_arm:  4 reward:  0.43738893304260706\n",
      "chosen_arm:  4 reward:  2.2070404293448163\n",
      "chosen_arm:  4 reward:  1.4697308101433937\n",
      "chosen_arm:  4 reward:  0.5360102319176857\n",
      "chosen_arm:  4 reward:  -0.7174109961375968\n",
      "chosen_arm:  4 reward:  -0.39708797490180137\n",
      "chosen_arm:  4 reward:  1.7057156840601102\n",
      "chosen_arm:  4 reward:  2.1221029880108815\n",
      "chosen_arm:  4 reward:  1.1635560476851785\n",
      "chosen_arm:  4 reward:  -0.5936013811903728\n",
      "chosen_arm:  4 reward:  1.1359531681931214\n",
      "chosen_arm:  4 reward:  1.2646326154230563\n",
      "chosen_arm:  4 reward:  1.20474930987158\n",
      "chosen_arm:  6 reward:  1.6127352922640297\n",
      "chosen_arm:  4 reward:  -0.11864583678494423\n",
      "chosen_arm:  4 reward:  2.6656019865866707\n",
      "chosen_arm:  4 reward:  2.186045237667797\n",
      "chosen_arm:  4 reward:  2.37840786706355\n",
      "chosen_arm:  4 reward:  -0.5174453480156634\n",
      "chosen_arm:  4 reward:  -1.9216276829095573\n",
      "chosen_arm:  4 reward:  -0.38612465652025574\n",
      "chosen_arm:  4 reward:  -0.7346381077662939\n",
      "chosen_arm:  4 reward:  0.16035028386786432\n",
      "chosen_arm:  9 reward:  0.39826244237118\n"
     ]
    }
   ],
   "source": [
    "# 运行 Epsilon-Greedy 算法\n",
    "for _ in range(25):\n",
    "    chosen_arm, reward = e_greedy_bandits.play()\n",
    "    print(\"chosen_arm: \", chosen_arm, \"reward: \", reward)\n",
    "    "
   ]
  }
 ],
 "metadata": {
  "kernelspec": {
   "display_name": "Python 3",
   "language": "python",
   "name": "python3"
  },
  "language_info": {
   "codemirror_mode": {
    "name": "ipython",
    "version": 3
   },
   "file_extension": ".py",
   "mimetype": "text/x-python",
   "name": "python",
   "nbconvert_exporter": "python",
   "pygments_lexer": "ipython3",
   "version": "3.10.11"
  }
 },
 "nbformat": 4,
 "nbformat_minor": 2
}
